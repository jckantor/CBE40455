{
 "cells": [
  {
   "cell_type": "markdown",
   "metadata": {},
   "source": [
    "<!--NOTEBOOK_HEADER-->\n",
    "*This notebook contains course material from [CBE40455](https://jckantor.github.io/CBE40455) by\n",
    "Jeffrey Kantor (jeff at nd.edu); the content is available [on Github](https://github.com/jckantor/CBE40455.git).\n",
    "The text is released under the [CC-BY-NC-ND-4.0 license](https://creativecommons.org/licenses/by-nc-nd/4.0/legalcode),\n",
    "and code is released under the [MIT license](https://opensource.org/licenses/MIT).*"
   ]
  },
  {
   "cell_type": "markdown",
   "metadata": {},
   "source": [
    "<!--NAVIGATION-->\n",
    "< [Queuing Systems](http://nbviewer.jupyter.org/github/jckantor/CBE40455/blob/master/notebooks/02.02-Queuing-Systems.ipynb) | [Contents](toc.ipynb) | [Model Development in SimPy](http://nbviewer.jupyter.org/github/jckantor/CBE40455/blob/master/notebooks/02.04-Discrete-Event-Simulation-of-a-Batch-Process.ipynb) ><p><a href=\"https://colab.research.google.com/github/jckantor/CBE40455/blob/master/notebooks/02.03-Emergency_Room_Simulation.ipynb\"><img align=\"left\" src=\"https://colab.research.google.com/assets/colab-badge.svg\" alt=\"Open in Colab\" title=\"Open in Google Colaboratory\"></a><p><a href=\"https://raw.githubusercontent.com/jckantor/CBE40455/master/notebooks/02.03-Emergency_Room_Simulation.ipynb\"><img align=\"left\" src=\"https://img.shields.io/badge/Github-Download-blue.svg\" alt=\"Download\" title=\"Download Notebook\"></a>"
   ]
  },
  {
   "cell_type": "markdown",
   "metadata": {
    "colab_type": "text",
    "id": "oCNYc5jXG13h"
   },
   "source": [
    "# Emergency Room Simulation\n",
    "\n",
    "This notebook is the result of an in-class exercise in the simulation and analysis of a simple queuing model for a hospital emergency room."
   ]
  },
  {
   "cell_type": "markdown",
   "metadata": {
    "colab_type": "text",
    "id": "g0ZiPiksHcGS"
   },
   "source": [
    "## Initializations\n",
    "\n",
    "Install the Simpy library and import necessary libraries."
   ]
  },
  {
   "cell_type": "code",
   "execution_count": 7,
   "metadata": {
    "colab": {
     "base_uri": "https://localhost:8080/",
     "height": 54
    },
    "colab_type": "code",
    "executionInfo": {
     "elapsed": 3218,
     "status": "ok",
     "timestamp": 1567168601233,
     "user": {
      "displayName": "Jeffrey Kantor",
      "photoUrl": "https://lh3.googleusercontent.com/a-/AAuE7mAnl92hB5egoXgR-yAmEJN-i3LA_Jwcr3-0236SZg=s64",
      "userId": "09038942003589296665"
     },
     "user_tz": 240
    },
    "id": "4y6q_A4C-aok",
    "outputId": "1f799ebf-9e68-4408-cc9a-c9ad812b6918"
   },
   "outputs": [
    {
     "name": "stdout",
     "output_type": "stream",
     "text": [
      "Requirement already satisfied: simpy in /usr/local/lib/python3.6/dist-packages (3.0.11)\n"
     ]
    }
   ],
   "source": [
    "!pip install simpy"
   ]
  },
  {
   "cell_type": "code",
   "execution_count": null,
   "metadata": {
    "colab": {},
    "colab_type": "code",
    "id": "bHMK1SXo-jJ5"
   },
   "outputs": [],
   "source": [
    "%matplotlib inline\n",
    "\n",
    "import matplotlib.pyplot as plt    # for plotting\n",
    "import numpy as np                 # for numerical calculations\n",
    "import pandas as pd                # for analysis of simulation data\n",
    "import random                      # for generating pseudo-random numbers\n",
    "import simpy                       # for discrete event simulation"
   ]
  },
  {
   "cell_type": "markdown",
   "metadata": {
    "colab_type": "text",
    "id": "udr7Z2a-HshL"
   },
   "source": [
    "## Poisson processes\n",
    "\n",
    "We assume $n$, the average number of patients arriving in a period of $\\tau$ minutes, is given by $\\lambda \\tau$ where $\\lambda$ represents the average rate of arrival in units of patients per minute. If the events are statistically independent and identically distributed in time,  this probability is uniformly distributed in time, then this is known as a [Poisson Process](https://ocw.mit.edu/courses/electrical-engineering-and-computer-science/6-262-discrete-stochastic-processes-spring-2011/course-notes/MIT6_262S11_chap02.pdf).\n",
    "\n",
    "One of the key properties of a Poisson process is that the period of time between arrival events, $t$, is a random number distributed according to the exponential distribution\n",
    "\n",
    "$$p(t|\\lambda) = \\lambda e^{-\\lambda t}$$\n",
    "\n",
    "The mean value of this distribution is $\\frac{1}{\\lambda}$. The variance is also $\\frac{1}{\\lambda}$ so that the standard deviation is $\\frac{1}{\\sqrt{\\lambda}}$.\n",
    "\n",
    "The standard Python libraries include functions for generating psuedo-random numbers from statistical distributions. In the case we use `random.expovariate(lambda)` to psuedo-random numbers drawn from an exponential distribution. The following cell shows how this is done, and creates a histogram demonstrating the results."
   ]
  },
  {
   "cell_type": "code",
   "execution_count": 9,
   "metadata": {
    "colab": {
     "base_uri": "https://localhost:8080/",
     "height": 300
    },
    "colab_type": "code",
    "executionInfo": {
     "elapsed": 944,
     "status": "ok",
     "timestamp": 1567168604939,
     "user": {
      "displayName": "Jeffrey Kantor",
      "photoUrl": "https://lh3.googleusercontent.com/a-/AAuE7mAnl92hB5egoXgR-yAmEJN-i3LA_Jwcr3-0236SZg=s64",
      "userId": "09038942003589296665"
     },
     "user_tz": 240
    },
    "id": "EevKAZvAQMIE",
    "outputId": "7bb6d8b5-83a1-42a6-9123-4a0465fe0f24"
   },
   "outputs": [
    {
     "data": {
      "text/plain": [
       "Text(0, 0.5, 'probability density function')"
      ]
     },
     "execution_count": 9,
     "metadata": {
      "tags": []
     },
     "output_type": "execute_result"
    },
    {
     "data": {
      "image/png": "[encoded data removed]",
      "text/plain": [
       "<Figure size 432x288 with 1 Axes>"
      ]
     },
     "metadata": {
      "tags": []
     },
     "output_type": "display_data"
    }
   ],
   "source": [
    "# specify rate\n",
    "rate = 0.5\n",
    "\n",
    "# compute a list of pseudo-random numbers from an exponential distribution\n",
    "x = [random.expovariate(rate) for n in range(0, 10000)]\n",
    "\n",
    "# plot histogram\n",
    "plt.hist(x, bins=int(np.sqrt(len(x))), density=True)\n",
    "\n",
    "# compare to theoretical distribution\n",
    "t = np.linspace(0, max(x))\n",
    "plt.plot(t, rate*np.exp(-rate*t), lw=3)\n",
    "plt.legend(['exponential distribution', 'histogram'])\n",
    "plt.xlabel('interarrival time t')\n",
    "plt.ylabel('probability density function')"
   ]
  },
  {
   "cell_type": "markdown",
   "metadata": {
    "colab_type": "text",
    "id": "A-sEKk1stcKZ"
   },
   "source": [
    "## Modeling patient arrivals as a Poisson process"
   ]
  },
  {
   "cell_type": "markdown",
   "metadata": {
    "colab_type": "text",
    "id": "R1VMODh323wj"
   },
   "source": [
    "### Version 1. Basic simulation\n",
    "\n",
    "The following cell is a first attempt at a simulation of the patient arrival process. The python generator assigns a patient ID to every new arrival and reports the arrival time."
   ]
  },
  {
   "cell_type": "code",
   "execution_count": 10,
   "metadata": {
    "colab": {
     "base_uri": "https://localhost:8080/",
     "height": 238
    },
    "colab_type": "code",
    "executionInfo": {
     "elapsed": 473,
     "status": "ok",
     "timestamp": 1567168607106,
     "user": {
      "displayName": "Jeffrey Kantor",
      "photoUrl": "https://lh3.googleusercontent.com/a-/AAuE7mAnl92hB5egoXgR-yAmEJN-i3LA_Jwcr3-0236SZg=s64",
      "userId": "09038942003589296665"
     },
     "user_tz": 240
    },
    "id": "nQn8WfVktkEn",
    "outputId": "73ea1a02-4c2c-441a-ddbe-a976d5eb8c0a"
   },
   "outputs": [
    {
     "name": "stdout",
     "output_type": "stream",
     "text": [
      "Patient 1 arrived at 1.6054742413576122 minutes\n",
      "Patient 2 arrived at 2.9862975304596584 minutes\n",
      "Patient 3 arrived at 6.226685767685777 minutes\n",
      "Patient 4 arrived at 8.886436229333643 minutes\n",
      "Patient 5 arrived at 9.105078716440664 minutes\n",
      "Patient 6 arrived at 10.907985660102916 minutes\n",
      "Patient 7 arrived at 12.38868161237205 minutes\n",
      "Patient 8 arrived at 13.583531753095926 minutes\n",
      "Patient 9 arrived at 16.920435092650337 minutes\n",
      "Patient 10 arrived at 18.681054931254344 minutes\n",
      "Patient 11 arrived at 19.79653435459627 minutes\n",
      "Patient 12 arrived at 24.339149139274646 minutes\n",
      "Patient 13 arrived at 28.161555082144186 minutes\n"
     ]
    }
   ],
   "source": [
    "env = simpy.Environment()\n",
    "\n",
    "# define a python generator describing the arrival of a new patient\n",
    "def patient_arrival(env, rate):\n",
    "  n = 0\n",
    "  while True:\n",
    "    yield env.timeout(random.expovariate(rate))\n",
    "    n = n + 1\n",
    "    print('Patient', n, 'arrived at', env.now, 'minutes')\n",
    "\n",
    "# perform a simulation with simpy\n",
    "env.process(patient_arrival(env, 0.5))\n",
    "env.run(until=30)"
   ]
  },
  {
   "cell_type": "markdown",
   "metadata": {
    "colab_type": "text",
    "id": "aGYW5NNG3Hca"
   },
   "source": [
    "### Version 2. Adding an event log\n",
    "\n",
    "A characteristic feature of event-based simulation is the logging of relevant events. Here we use a list to record events as the occur. The record for each event consists of a list of data comprising the patient ID, the time of the event, and type of event."
   ]
  },
  {
   "cell_type": "code",
   "execution_count": 11,
   "metadata": {
    "colab": {
     "base_uri": "https://localhost:8080/",
     "height": 323
    },
    "colab_type": "code",
    "executionInfo": {
     "elapsed": 302,
     "status": "ok",
     "timestamp": 1567168609063,
     "user": {
      "displayName": "Jeffrey Kantor",
      "photoUrl": "https://lh3.googleusercontent.com/a-/AAuE7mAnl92hB5egoXgR-yAmEJN-i3LA_Jwcr3-0236SZg=s64",
      "userId": "09038942003589296665"
     },
     "user_tz": 240
    },
    "id": "fNGLor4k3o9S",
    "outputId": "410b0e30-9614-437c-dfd2-87d4ab9a1a7b"
   },
   "outputs": [
    {
     "data": {
      "text/plain": [
       "[[1, 0.08255875642546838, 'Arrival'],\n",
       " [2, 2.154020951510568, 'Arrival'],\n",
       " [3, 3.690213096751676, 'Arrival'],\n",
       " [4, 3.7292525534379526, 'Arrival'],\n",
       " [5, 5.5288177111371555, 'Arrival'],\n",
       " [6, 5.964165672571363, 'Arrival'],\n",
       " [7, 6.017082273205615, 'Arrival'],\n",
       " [8, 11.11180870530135, 'Arrival'],\n",
       " [9, 12.79936039051638, 'Arrival'],\n",
       " [10, 13.92130464011105, 'Arrival'],\n",
       " [11, 15.156231476563278, 'Arrival'],\n",
       " [12, 17.149943407249417, 'Arrival'],\n",
       " [13, 20.156346210823116, 'Arrival'],\n",
       " [14, 25.13846969588947, 'Arrival'],\n",
       " [15, 26.988843043672063, 'Arrival'],\n",
       " [16, 28.28680275211266, 'Arrival'],\n",
       " [17, 28.65926687881398, 'Arrival'],\n",
       " [18, 29.299928937955222, 'Arrival']]"
      ]
     },
     "execution_count": 11,
     "metadata": {
      "tags": []
     },
     "output_type": "execute_result"
    }
   ],
   "source": [
    "env = simpy.Environment()\n",
    "\n",
    "log = []\n",
    "\n",
    "# define a python generator describing the arrival of a new patient\n",
    "def patient_arrival(env, rate):\n",
    "  n = 0\n",
    "  while True:\n",
    "    yield env.timeout(random.expovariate(rate))\n",
    "    n = n + 1\n",
    "    log.append([n, env.now, 'Arrival'])\n",
    "\n",
    "# perform a simulation with simpy\n",
    "env.process(patient_arrival(env, 0.5))\n",
    "env.run(until=30)\n",
    "\n",
    "log"
   ]
  },
  {
   "cell_type": "markdown",
   "metadata": {
    "colab_type": "text",
    "id": "wLj6V-VsA6Aq"
   },
   "source": [
    "### Version 3. Converting the log to a Pandas DataFrame\n",
    "\n",
    "The next version of our simulation uses the Pandas library to create relevant analytics."
   ]
  },
  {
   "cell_type": "code",
   "execution_count": 12,
   "metadata": {
    "colab": {
     "base_uri": "https://localhost:8080/",
     "height": 452
    },
    "colab_type": "code",
    "executionInfo": {
     "elapsed": 373,
     "status": "ok",
     "timestamp": 1567168610931,
     "user": {
      "displayName": "Jeffrey Kantor",
      "photoUrl": "https://lh3.googleusercontent.com/a-/AAuE7mAnl92hB5egoXgR-yAmEJN-i3LA_Jwcr3-0236SZg=s64",
      "userId": "09038942003589296665"
     },
     "user_tz": 240
    },
    "id": "sZhLg48WBA0-",
    "outputId": "0ce4489c-11b9-4b3e-d325-f893f020a2e0"
   },
   "outputs": [
    {
     "data": {
      "text/html": [
       "<div>\n",
       "<style scoped>\n",
       "    .dataframe tbody tr th:only-of-type {\n",
       "        vertical-align: middle;\n",
       "    }\n",
       "\n",
       "    .dataframe tbody tr th {\n",
       "        vertical-align: top;\n",
       "    }\n",
       "\n",
       "    .dataframe thead th {\n",
       "        text-align: right;\n",
       "    }\n",
       "</style>\n",
       "<table border=\"1\" class=\"dataframe\">\n",
       "  <thead>\n",
       "    <tr style=\"text-align: right;\">\n",
       "      <th></th>\n",
       "      <th>Time</th>\n",
       "      <th>Event</th>\n",
       "    </tr>\n",
       "    <tr>\n",
       "      <th>Patient ID</th>\n",
       "      <th></th>\n",
       "      <th></th>\n",
       "    </tr>\n",
       "  </thead>\n",
       "  <tbody>\n",
       "    <tr>\n",
       "      <th>1</th>\n",
       "      <td>0.147039</td>\n",
       "      <td>Arrival</td>\n",
       "    </tr>\n",
       "    <tr>\n",
       "      <th>2</th>\n",
       "      <td>0.373035</td>\n",
       "      <td>Arrival</td>\n",
       "    </tr>\n",
       "    <tr>\n",
       "      <th>3</th>\n",
       "      <td>1.462077</td>\n",
       "      <td>Arrival</td>\n",
       "    </tr>\n",
       "    <tr>\n",
       "      <th>4</th>\n",
       "      <td>3.231856</td>\n",
       "      <td>Arrival</td>\n",
       "    </tr>\n",
       "    <tr>\n",
       "      <th>5</th>\n",
       "      <td>3.288754</td>\n",
       "      <td>Arrival</td>\n",
       "    </tr>\n",
       "    <tr>\n",
       "      <th>6</th>\n",
       "      <td>4.702892</td>\n",
       "      <td>Arrival</td>\n",
       "    </tr>\n",
       "    <tr>\n",
       "      <th>7</th>\n",
       "      <td>11.170035</td>\n",
       "      <td>Arrival</td>\n",
       "    </tr>\n",
       "    <tr>\n",
       "      <th>8</th>\n",
       "      <td>18.117774</td>\n",
       "      <td>Arrival</td>\n",
       "    </tr>\n",
       "    <tr>\n",
       "      <th>9</th>\n",
       "      <td>18.810539</td>\n",
       "      <td>Arrival</td>\n",
       "    </tr>\n",
       "    <tr>\n",
       "      <th>10</th>\n",
       "      <td>20.414122</td>\n",
       "      <td>Arrival</td>\n",
       "    </tr>\n",
       "    <tr>\n",
       "      <th>11</th>\n",
       "      <td>28.920332</td>\n",
       "      <td>Arrival</td>\n",
       "    </tr>\n",
       "    <tr>\n",
       "      <th>12</th>\n",
       "      <td>29.998723</td>\n",
       "      <td>Arrival</td>\n",
       "    </tr>\n",
       "  </tbody>\n",
       "</table>\n",
       "</div>"
      ],
      "text/plain": [
       "                 Time    Event\n",
       "Patient ID                    \n",
       "1            0.147039  Arrival\n",
       "2            0.373035  Arrival\n",
       "3            1.462077  Arrival\n",
       "4            3.231856  Arrival\n",
       "5            3.288754  Arrival\n",
       "6            4.702892  Arrival\n",
       "7           11.170035  Arrival\n",
       "8           18.117774  Arrival\n",
       "9           18.810539  Arrival\n",
       "10          20.414122  Arrival\n",
       "11          28.920332  Arrival\n",
       "12          29.998723  Arrival"
      ]
     },
     "execution_count": 12,
     "metadata": {
      "tags": []
     },
     "output_type": "execute_result"
    }
   ],
   "source": [
    "env = simpy.Environment()\n",
    "\n",
    "log = []\n",
    "\n",
    "# define a python generator describing the arrival of a new patient\n",
    "def patient_arrival(env, rate):\n",
    "  n = 0\n",
    "  while True:\n",
    "    yield env.timeout(random.expovariate(rate))\n",
    "    n = n + 1\n",
    "    log.append([n, env.now, 'Arrival'])\n",
    "\n",
    "# perform a simulation with simpy\n",
    "env.process(patient_arrival(env, 0.5))\n",
    "env.run(until=30)\n",
    "\n",
    "# converting the log to a Pandas DataFrame\n",
    "df = pd.DataFrame(log, columns=['Patient ID', 'Time', 'Event']).set_index('Patient ID')\n",
    "df"
   ]
  },
  {
   "cell_type": "markdown",
   "metadata": {
    "colab_type": "text",
    "id": "7VnQH6rkB_FR"
   },
   "source": [
    "### Version 4. Plotting the DataFrame\n",
    "\n",
    "Now that we have an analytical tool to summarize the event log, let's use the tool to perform longer simulationsn and show the result graphically."
   ]
  },
  {
   "cell_type": "code",
   "execution_count": 13,
   "metadata": {
    "colab": {
     "base_uri": "https://localhost:8080/",
     "height": 300
    },
    "colab_type": "code",
    "executionInfo": {
     "elapsed": 556,
     "status": "ok",
     "timestamp": 1567168613623,
     "user": {
      "displayName": "Jeffrey Kantor",
      "photoUrl": "https://lh3.googleusercontent.com/a-/AAuE7mAnl92hB5egoXgR-yAmEJN-i3LA_Jwcr3-0236SZg=s64",
      "userId": "09038942003589296665"
     },
     "user_tz": 240
    },
    "id": "o6ij_IGpB2LB",
    "outputId": "b2bd47ed-23d2-446a-d34b-f93ee77880d0"
   },
   "outputs": [
    {
     "data": {
      "text/plain": [
       "Text(0, 0.5, 'Arrival Time')"
      ]
     },
     "execution_count": 13,
     "metadata": {
      "tags": []
     },
     "output_type": "execute_result"
    },
    {
     "data": {
      "image/png": "[encoded data removed]",
      "text/plain": [
       "<Figure size 432x288 with 1 Axes>"
      ]
     },
     "metadata": {
      "tags": []
     },
     "output_type": "display_data"
    }
   ],
   "source": [
    "env = simpy.Environment()\n",
    "\n",
    "log = []\n",
    "\n",
    "# define a python generator describing the arrival of a new patient\n",
    "def patient_arrival(env, rate):\n",
    "  n = 0\n",
    "  while True:\n",
    "    yield env.timeout(random.expovariate(rate))\n",
    "    n = n + 1\n",
    "    log.append([n, env.now, 'Arrival'])\n",
    "\n",
    "# perform a simulation with simpy\n",
    "env.process(patient_arrival(env, 0.5))\n",
    "env.run(until=1440)\n",
    "\n",
    "# converting the log to a Pandas DataFrame and plotting the results\n",
    "df = pd.DataFrame(log, columns=['Patient ID', 'Time', 'Event']).set_index('Patient ID')\n",
    "ax = df['Time'].plot()\n",
    "ax.set_ylabel('Arrival Time')"
   ]
  },
  {
   "cell_type": "markdown",
   "metadata": {
    "colab_type": "text",
    "id": "j8m-oxbdD44X"
   },
   "source": [
    "## Version 5. Modeling the emergency room queue and service providers\n",
    "\n",
    "The next step in this simulation is to model the emergency room queue and hospital service providers. For the emergency room queue we use the [simpy.Stores](https://simpy.readthedocs.io/en/latest/topical_guides/resources.html#stores) object. A Stores object has a `.put()` method the adds a Python object to the queue, and `.get()` method to remove Python objects from the queue. The queue operates in FIFO mode (first-in, first-out) and, by default, with infinite capacity.\n",
    "\n",
    "We model the actual service as taking a fixed period."
   ]
  },
  {
   "cell_type": "code",
   "execution_count": 18,
   "metadata": {
    "colab": {
     "base_uri": "https://localhost:8080/",
     "height": 518
    },
    "colab_type": "code",
    "executionInfo": {
     "elapsed": 720,
     "status": "ok",
     "timestamp": 1567170997070,
     "user": {
      "displayName": "Jeffrey Kantor",
      "photoUrl": "https://lh3.googleusercontent.com/a-/AAuE7mAnl92hB5egoXgR-yAmEJN-i3LA_Jwcr3-0236SZg=s64",
      "userId": "09038942003589296665"
     },
     "user_tz": 240
    },
    "id": "xYC-XT_EELiI",
    "outputId": "e7a34682-ca24-4674-ef7c-e49b5be4342b"
   },
   "outputs": [
    {
     "data": {
      "text/html": [
       "<div>\n",
       "<style scoped>\n",
       "    .dataframe tbody tr th:only-of-type {\n",
       "        vertical-align: middle;\n",
       "    }\n",
       "\n",
       "    .dataframe tbody tr th {\n",
       "        vertical-align: top;\n",
       "    }\n",
       "\n",
       "    .dataframe thead th {\n",
       "        text-align: right;\n",
       "    }\n",
       "</style>\n",
       "<table border=\"1\" class=\"dataframe\">\n",
       "  <thead>\n",
       "    <tr style=\"text-align: right;\">\n",
       "      <th>Event</th>\n",
       "      <th>Arrival</th>\n",
       "      <th>Service Finished</th>\n",
       "      <th>Service Start</th>\n",
       "    </tr>\n",
       "    <tr>\n",
       "      <th>Patient ID</th>\n",
       "      <th></th>\n",
       "      <th></th>\n",
       "      <th></th>\n",
       "    </tr>\n",
       "  </thead>\n",
       "  <tbody>\n",
       "    <tr>\n",
       "      <th>1</th>\n",
       "      <td>1.663953</td>\n",
       "      <td>11.663953</td>\n",
       "      <td>1.663953</td>\n",
       "    </tr>\n",
       "    <tr>\n",
       "      <th>2</th>\n",
       "      <td>4.349066</td>\n",
       "      <td>21.663953</td>\n",
       "      <td>11.663953</td>\n",
       "    </tr>\n",
       "    <tr>\n",
       "      <th>3</th>\n",
       "      <td>5.723800</td>\n",
       "      <td>31.663953</td>\n",
       "      <td>21.663953</td>\n",
       "    </tr>\n",
       "    <tr>\n",
       "      <th>4</th>\n",
       "      <td>14.943547</td>\n",
       "      <td>41.663953</td>\n",
       "      <td>31.663953</td>\n",
       "    </tr>\n",
       "    <tr>\n",
       "      <th>5</th>\n",
       "      <td>15.823235</td>\n",
       "      <td>51.663953</td>\n",
       "      <td>41.663953</td>\n",
       "    </tr>\n",
       "  </tbody>\n",
       "</table>\n",
       "</div>"
      ],
      "text/plain": [
       "Event         Arrival  Service Finished  Service Start\n",
       "Patient ID                                            \n",
       "1            1.663953         11.663953       1.663953\n",
       "2            4.349066         21.663953      11.663953\n",
       "3            5.723800         31.663953      21.663953\n",
       "4           14.943547         41.663953      31.663953\n",
       "5           15.823235         51.663953      41.663953"
      ]
     },
     "metadata": {
      "tags": []
     },
     "output_type": "display_data"
    },
    {
     "data": {
      "text/plain": [
       "<matplotlib.axes._subplots.AxesSubplot at 0x7f5c6a2d5748>"
      ]
     },
     "execution_count": 18,
     "metadata": {
      "tags": []
     },
     "output_type": "execute_result"
    },
    {
     "data": {
      "image/png": "[encoded data removed]",
      "text/plain": [
       "<Figure size 432x288 with 1 Axes>"
      ]
     },
     "metadata": {
      "tags": []
     },
     "output_type": "display_data"
    }
   ],
   "source": [
    "env = simpy.Environment()\n",
    "emergency_room_queue = simpy.Store(env)\n",
    "\n",
    "log = []\n",
    "\n",
    "# define a python generator describing the arrival of a new patient\n",
    "def patient_arrival(env, rate):\n",
    "  n = 0\n",
    "  while True:\n",
    "    yield env.timeout(random.expovariate(rate))\n",
    "    n = n + 1\n",
    "    yield emergency_room_queue.put(n)\n",
    "    log.append([n, env.now, 'Arrival'])\n",
    "    \n",
    "def patient_service(env, tservice):\n",
    "  while True:\n",
    "    n = yield emergency_room_queue.get()\n",
    "    log.append([n, env.now, 'Service Start'])\n",
    "    yield env.timeout(tservice)\n",
    "    log.append([n, env.now, 'Service Finished'])\n",
    "\n",
    "# perform a simulation with simpy\n",
    "env.process(patient_arrival(env, 0.5))\n",
    "env.process(patient_service(env, 10))\n",
    "env.run(until=1440)\n",
    "\n",
    "# converting the log to a Pandas DataFrame and plotting the results\n",
    "df = pd.DataFrame(log, columns=['Patient ID', 'Time', 'Event']).set_index('Patient ID')\n",
    "df = df.pivot(columns='Event', values='Time')\n",
    "display(df.head())\n",
    "df.plot()"
   ]
  },
  {
   "cell_type": "markdown",
   "metadata": {
    "colab_type": "text",
    "id": "Ondy9t21rH01"
   },
   "source": [
    "## Version 6. How many service providers are required?\n",
    "\n",
    "From the plot above, it is clear that one service provider who takes ten minutes to treat each patient cannot keep up when patients are arriving, on average, every two minutes. We need more service providers. Let's add six and see what happens."
   ]
  },
  {
   "cell_type": "code",
   "execution_count": 44,
   "metadata": {
    "colab": {
     "base_uri": "https://localhost:8080/",
     "height": 518
    },
    "colab_type": "code",
    "executionInfo": {
     "elapsed": 736,
     "status": "ok",
     "timestamp": 1567178707156,
     "user": {
      "displayName": "Jeffrey Kantor",
      "photoUrl": "https://lh3.googleusercontent.com/a-/AAuE7mAnl92hB5egoXgR-yAmEJN-i3LA_Jwcr3-0236SZg=s64",
      "userId": "09038942003589296665"
     },
     "user_tz": 240
    },
    "id": "W21uIdKkvLJU",
    "outputId": "048cb899-91d0-44c0-a641-eb71c69ad18e"
   },
   "outputs": [
    {
     "data": {
      "text/html": [
       "<div>\n",
       "<style scoped>\n",
       "    .dataframe tbody tr th:only-of-type {\n",
       "        vertical-align: middle;\n",
       "    }\n",
       "\n",
       "    .dataframe tbody tr th {\n",
       "        vertical-align: top;\n",
       "    }\n",
       "\n",
       "    .dataframe thead th {\n",
       "        text-align: right;\n",
       "    }\n",
       "</style>\n",
       "<table border=\"1\" class=\"dataframe\">\n",
       "  <thead>\n",
       "    <tr style=\"text-align: right;\">\n",
       "      <th>Event</th>\n",
       "      <th>Arrival</th>\n",
       "      <th>Service Finished</th>\n",
       "      <th>Service Start</th>\n",
       "    </tr>\n",
       "    <tr>\n",
       "      <th>Patient ID</th>\n",
       "      <th></th>\n",
       "      <th></th>\n",
       "      <th></th>\n",
       "    </tr>\n",
       "  </thead>\n",
       "  <tbody>\n",
       "    <tr>\n",
       "      <th>1</th>\n",
       "      <td>0.926981</td>\n",
       "      <td>10.926981</td>\n",
       "      <td>0.926981</td>\n",
       "    </tr>\n",
       "    <tr>\n",
       "      <th>2</th>\n",
       "      <td>2.469486</td>\n",
       "      <td>12.469486</td>\n",
       "      <td>2.469486</td>\n",
       "    </tr>\n",
       "    <tr>\n",
       "      <th>3</th>\n",
       "      <td>7.713509</td>\n",
       "      <td>17.713509</td>\n",
       "      <td>7.713509</td>\n",
       "    </tr>\n",
       "    <tr>\n",
       "      <th>4</th>\n",
       "      <td>10.039330</td>\n",
       "      <td>20.039330</td>\n",
       "      <td>10.039330</td>\n",
       "    </tr>\n",
       "    <tr>\n",
       "      <th>5</th>\n",
       "      <td>10.303165</td>\n",
       "      <td>20.303165</td>\n",
       "      <td>10.303165</td>\n",
       "    </tr>\n",
       "  </tbody>\n",
       "</table>\n",
       "</div>"
      ],
      "text/plain": [
       "Event         Arrival  Service Finished  Service Start\n",
       "Patient ID                                            \n",
       "1            0.926981         10.926981       0.926981\n",
       "2            2.469486         12.469486       2.469486\n",
       "3            7.713509         17.713509       7.713509\n",
       "4           10.039330         20.039330      10.039330\n",
       "5           10.303165         20.303165      10.303165"
      ]
     },
     "metadata": {
      "tags": []
     },
     "output_type": "display_data"
    },
    {
     "data": {
      "text/plain": [
       "<matplotlib.axes._subplots.AxesSubplot at 0x7f5c697fcf98>"
      ]
     },
     "execution_count": 44,
     "metadata": {
      "tags": []
     },
     "output_type": "execute_result"
    },
    {
     "data": {
      "image/png": "[encoded data removed]",
      "text/plain": [
       "<Figure size 432x288 with 1 Axes>"
      ]
     },
     "metadata": {
      "tags": []
     },
     "output_type": "display_data"
    }
   ],
   "source": [
    "env = simpy.Environment()\n",
    "emergency_room_queue = simpy.Store(env)\n",
    "\n",
    "log = []\n",
    "\n",
    "# define a python generator describing the arrival of a new patient\n",
    "def patient_arrival(env, rate):\n",
    "  n = 0\n",
    "  while True:\n",
    "    yield env.timeout(random.expovariate(rate))\n",
    "    n = n + 1\n",
    "    yield emergency_room_queue.put(n)\n",
    "    log.append([n, env.now, 'Arrival'])\n",
    "    \n",
    "def patient_service(env, tservice):\n",
    "  while True:\n",
    "    n = yield emergency_room_queue.get()\n",
    "    log.append([n, env.now, 'Service Start'])\n",
    "    yield env.timeout(tservice)\n",
    "    log.append([n, env.now, 'Service Finished'])\n",
    "\n",
    "# perform a simulation with simpy\n",
    "env.process(patient_arrival(env, 0.5))\n",
    "\n",
    "env.process(patient_service(env, 10))\n",
    "env.process(patient_service(env, 10))\n",
    "env.process(patient_service(env, 10))\n",
    "env.process(patient_service(env, 10))\n",
    "env.process(patient_service(env, 10))\n",
    "env.process(patient_service(env, 10))\n",
    "\n",
    "env.run(until=1440)\n",
    "\n",
    "# converting the log to a Pandas DataFrame and plotting the results\n",
    "df = pd.DataFrame(log, columns=['Patient ID', 'Time', 'Event']).set_index('Patient ID')\n",
    "df = df.pivot(columns='Event', values='Time')\n",
    "display(df.head())\n",
    "df.plot()"
   ]
  },
  {
   "cell_type": "markdown",
   "metadata": {
    "colab_type": "text",
    "id": "q-A9bwD1vVen"
   },
   "source": [
    "### Calculating and plotting wait times\n",
    "\n",
    "With six service providers we now see that patient queue doen't grow indefinitely. Let's look at this in a little more detail by taking a look at how long patients wait for before receiving service."
   ]
  },
  {
   "cell_type": "code",
   "execution_count": 45,
   "metadata": {
    "colab": {
     "base_uri": "https://localhost:8080/",
     "height": 235
    },
    "colab_type": "code",
    "executionInfo": {
     "elapsed": 338,
     "status": "ok",
     "timestamp": 1567178710885,
     "user": {
      "displayName": "Jeffrey Kantor",
      "photoUrl": "https://lh3.googleusercontent.com/a-/AAuE7mAnl92hB5egoXgR-yAmEJN-i3LA_Jwcr3-0236SZg=s64",
      "userId": "09038942003589296665"
     },
     "user_tz": 240
    },
    "id": "1d_wttU7UqiD",
    "outputId": "fe48afbe-1a73-4fdd-9123-abe2ee2ee3bf"
   },
   "outputs": [
    {
     "data": {
      "text/html": [
       "<div>\n",
       "<style scoped>\n",
       "    .dataframe tbody tr th:only-of-type {\n",
       "        vertical-align: middle;\n",
       "    }\n",
       "\n",
       "    .dataframe tbody tr th {\n",
       "        vertical-align: top;\n",
       "    }\n",
       "\n",
       "    .dataframe thead th {\n",
       "        text-align: right;\n",
       "    }\n",
       "</style>\n",
       "<table border=\"1\" class=\"dataframe\">\n",
       "  <thead>\n",
       "    <tr style=\"text-align: right;\">\n",
       "      <th>Event</th>\n",
       "      <th>Arrival</th>\n",
       "      <th>Service Finished</th>\n",
       "      <th>Service Start</th>\n",
       "    </tr>\n",
       "    <tr>\n",
       "      <th>Patient ID</th>\n",
       "      <th></th>\n",
       "      <th></th>\n",
       "      <th></th>\n",
       "    </tr>\n",
       "  </thead>\n",
       "  <tbody>\n",
       "    <tr>\n",
       "      <th>1</th>\n",
       "      <td>0.926981</td>\n",
       "      <td>10.926981</td>\n",
       "      <td>0.926981</td>\n",
       "    </tr>\n",
       "    <tr>\n",
       "      <th>2</th>\n",
       "      <td>2.469486</td>\n",
       "      <td>12.469486</td>\n",
       "      <td>2.469486</td>\n",
       "    </tr>\n",
       "    <tr>\n",
       "      <th>3</th>\n",
       "      <td>7.713509</td>\n",
       "      <td>17.713509</td>\n",
       "      <td>7.713509</td>\n",
       "    </tr>\n",
       "    <tr>\n",
       "      <th>4</th>\n",
       "      <td>10.039330</td>\n",
       "      <td>20.039330</td>\n",
       "      <td>10.039330</td>\n",
       "    </tr>\n",
       "    <tr>\n",
       "      <th>5</th>\n",
       "      <td>10.303165</td>\n",
       "      <td>20.303165</td>\n",
       "      <td>10.303165</td>\n",
       "    </tr>\n",
       "  </tbody>\n",
       "</table>\n",
       "</div>"
      ],
      "text/plain": [
       "Event         Arrival  Service Finished  Service Start\n",
       "Patient ID                                            \n",
       "1            0.926981         10.926981       0.926981\n",
       "2            2.469486         12.469486       2.469486\n",
       "3            7.713509         17.713509       7.713509\n",
       "4           10.039330         20.039330      10.039330\n",
       "5           10.303165         20.303165      10.303165"
      ]
     },
     "metadata": {
      "tags": []
     },
     "output_type": "display_data"
    }
   ],
   "source": [
    "display(df.head())"
   ]
  },
  {
   "cell_type": "code",
   "execution_count": 46,
   "metadata": {
    "colab": {
     "base_uri": "https://localhost:8080/",
     "height": 312
    },
    "colab_type": "code",
    "executionInfo": {
     "elapsed": 736,
     "status": "ok",
     "timestamp": 1567178712117,
     "user": {
      "displayName": "Jeffrey Kantor",
      "photoUrl": "https://lh3.googleusercontent.com/a-/AAuE7mAnl92hB5egoXgR-yAmEJN-i3LA_Jwcr3-0236SZg=s64",
      "userId": "09038942003589296665"
     },
     "user_tz": 240
    },
    "id": "BjrXzYTgwBMf",
    "outputId": "158b1a93-7894-4b9c-f3cd-536e9167336a"
   },
   "outputs": [
    {
     "data": {
      "text/plain": [
       "Text(0.5, 1.0, 'Average Waiting Time = 4.192847877217444 minutes')"
      ]
     },
     "execution_count": 46,
     "metadata": {
      "tags": []
     },
     "output_type": "execute_result"
    },
    {
     "data": {
      "image/png": "[encoded data removed]",
      "text/plain": [
       "<Figure size 432x288 with 1 Axes>"
      ]
     },
     "metadata": {
      "tags": []
     },
     "output_type": "display_data"
    }
   ],
   "source": [
    "df['Wait Time'] = df['Service Start'] - df['Arrival']\n",
    "ax = df['Wait Time'].plot()\n",
    "plt.title('Average Waiting Time = ' + str(df['Wait Time'].mean()) + ' minutes')"
   ]
  },
  {
   "cell_type": "markdown",
   "metadata": {
    "colab_type": "text",
    "id": "mrPi-MYxIzIy"
   },
   "source": [
    "### Histogram of wait times\n",
    "\n",
    "A histogram of wait times provides important insights into the quality of the services being provided by the hospital."
   ]
  },
  {
   "cell_type": "code",
   "execution_count": 47,
   "metadata": {
    "colab": {
     "base_uri": "https://localhost:8080/",
     "height": 286
    },
    "colab_type": "code",
    "executionInfo": {
     "elapsed": 543,
     "status": "ok",
     "timestamp": 1567178714054,
     "user": {
      "displayName": "Jeffrey Kantor",
      "photoUrl": "https://lh3.googleusercontent.com/a-/AAuE7mAnl92hB5egoXgR-yAmEJN-i3LA_Jwcr3-0236SZg=s64",
      "userId": "09038942003589296665"
     },
     "user_tz": 240
    },
    "id": "JIOhqs7VHkFR",
    "outputId": "ce2af5c3-43da-4569-8a8d-a1270c607b23"
   },
   "outputs": [
    {
     "data": {
      "text/plain": [
       "Text(0, 0.5, 'Count')"
      ]
     },
     "execution_count": 47,
     "metadata": {
      "tags": []
     },
     "output_type": "execute_result"
    },
    {
     "data": {
      "image/png": "[encoded data removed]",
      "text/plain": [
       "<Figure size 432x288 with 1 Axes>"
      ]
     },
     "metadata": {
      "tags": []
     },
     "output_type": "display_data"
    }
   ],
   "source": [
    "ax = df['Wait Time'].hist(bins=30)\n",
    "ax.set_ylabel('Count')"
   ]
  },
  {
   "cell_type": "markdown",
   "metadata": {
    "colab_type": "text",
    "id": "ys2epbnVJWgE"
   },
   "source": [
    "## Exercise: Further model development\n",
    "\n",
    "Copy and paste Version 6 of the model into following code cell.  Then modify the model to incorporate the following features. Insert additional code cells as needed to complete this exercise.\n",
    "\n",
    "a. The model developed above assumes all emergency room services take the same amount of time. Obviously this is a poor assumption. Change the model so that the (i) the service time is uniformly random number between 5 and 15 minutes, and (ii) after the service to the patient is finished, there is an additional timeout of 5 minutes to allow for medical record keeping and transition to the next patient.\n",
    "\n",
    "b. Change the data logging so that each time a patient is added or removed from the queue both the time and the length of the resulting queue are logged. You will want to use the Python expression `len(emergency_room_queue.items)` to determine the number of items in the queue.\n",
    "\n",
    "c. Determine the minimum number of service providers needed to keep the length of the queue finite. Given that number of service providers, determine the average wait time before a patient receives service, and the average length of the emergency room queue. Plot time histories and histograms for both performance indicators.\n",
    "\n",
    "d. Using the data from (c.), determine if Little's law is satisfied for this simulation."
   ]
  },
  {
   "cell_type": "code",
   "execution_count": null,
   "metadata": {
    "colab": {},
    "colab_type": "code",
    "id": "0MmL0QrgBqma"
   },
   "outputs": [],
   "source": []
  },
  {
   "cell_type": "markdown",
   "metadata": {},
   "source": [
    "<!--NAVIGATION-->\n",
    "< [Queuing Systems](http://nbviewer.jupyter.org/github/jckantor/CBE40455/blob/master/notebooks/02.02-Queuing-Systems.ipynb) | [Contents](toc.ipynb) | [Model Development in SimPy](http://nbviewer.jupyter.org/github/jckantor/CBE40455/blob/master/notebooks/02.04-Discrete-Event-Simulation-of-a-Batch-Process.ipynb) ><p><a href=\"https://colab.research.google.com/github/jckantor/CBE40455/blob/master/notebooks/02.03-Emergency_Room_Simulation.ipynb\"><img align=\"left\" src=\"https://colab.research.google.com/assets/colab-badge.svg\" alt=\"Open in Colab\" title=\"Open in Google Colaboratory\"></a><p><a href=\"https://raw.githubusercontent.com/jckantor/CBE40455/master/notebooks/02.03-Emergency_Room_Simulation.ipynb\"><img align=\"left\" src=\"https://img.shields.io/badge/Github-Download-blue.svg\" alt=\"Download\" title=\"Download Notebook\"></a>"
   ]
  }
 ],
 "metadata": {
  "colab": {
   "collapsed_sections": [],
   "name": "Emergency_Room_Simulation.ipynb",
   "provenance": [],
   "toc_visible": true,
   "version": "0.3.2"
  },
  "kernelspec": {
   "display_name": "Python 3",
   "language": "python",
   "name": "python3"
  },
  "language_info": {
   "codemirror_mode": {
    "name": "ipython",
    "version": 3
   },
   "file_extension": ".py",
   "mimetype": "text/x-python",
   "name": "python",
   "nbconvert_exporter": "python",
   "pygments_lexer": "ipython3",
   "version": "3.7.4"
  }
 },
 "nbformat": 4,
 "nbformat_minor": 4
}
